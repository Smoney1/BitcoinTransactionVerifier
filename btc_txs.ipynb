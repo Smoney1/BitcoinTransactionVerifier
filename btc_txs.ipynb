{
 "cells": [
  {
   "cell_type": "code",
   "execution_count": 1,
   "id": "99b2787b-7608-4fa5-ba89-6670ee919c5b",
   "metadata": {
    "tags": []
   },
   "outputs": [],
   "source": [
    "import requests\n",
    "from datetime import datetime, timedelta"
   ]
  },
  {
   "cell_type": "code",
   "execution_count": 3,
   "id": "52438ee8-3a3c-4edc-96f7-2a6a4970c0df",
   "metadata": {
    "tags": []
   },
   "outputs": [],
   "source": [
    "def verify_transactions(address, period_hours=24):\n",
    "    \"\"\"\n",
    "    Queries and verifies Bitcoin transactions for a given address within a specified time period.\n",
    "\n",
    "    Parameters:\n",
    "    - address (str): The Bitcoin address to check for transactions.\n",
    "    - period_hours (int): The time period in hours to look back for transactions. Defaults to 24 hours.\n",
    "\n",
    "    Returns:\n",
    "    - float: The total amount of Bitcoin received by the address in the specified period.\n",
    "\n",
    "    Raises:\n",
    "    - requests.exceptions.RequestException: If there is an issue with the network request.\n",
    "    \"\"\"\n",
    "\n",
    "    # API Endpoint for getting raw address transactions\n",
    "    api_url = f\"https://blockchain.info/rawaddr/{address}\"\n",
    "    \n",
    "    amount = 0\n",
    "    \n",
    "    try:\n",
    "        # Request transaction data for the address\n",
    "        response = requests.get(api_url)\n",
    "        response.raise_for_status()  # Raise an error if the request failed\n",
    "\n",
    "        # Parse the JSON response\n",
    "        data = response.json()\n",
    "        transactions = data.get('txs', [])\n",
    "\n",
    "        # Get the current time and the oldest allowed timestamp\n",
    "        current_time = datetime.utcnow()\n",
    "        period_delta = timedelta(hours=period_hours)\n",
    "        oldest_timestamp = current_time - period_delta\n",
    "        \n",
    "        # Check transactions within the specified period\n",
    "        for tx in transactions:\n",
    "            tx_time = datetime.utcfromtimestamp(tx['time'])  # Convert Unix timestamp to datetime\n",
    "\n",
    "            if tx_time > oldest_timestamp:\n",
    "                for output in tx['out']:\n",
    "                    if output.get('addr') == address:\n",
    "                        amount_btc = output['value'] / 1e8  # Convert Satoshis to BTC\n",
    "                        amount += amount_btc\n",
    "                        sending_addresses = [input['prev_out']['addr'] for input in tx['inputs'] if 'prev_out' in input]\n",
    "                        print(f\"Transaction Time: {tx_time}\")\n",
    "                        print(f\"Amount Received: {amount_btc} BTC\")\n",
    "                        print(f\"Sent from addresses: {', '.join(sending_addresses)}\\n\")\n",
    "                        \n",
    "        if not transactions:\n",
    "            print(f\"No transactions to address {address} in the last {period_hours} hours.\")\n",
    "\n",
    "    except requests.exceptions.RequestException as e:\n",
    "        print(f\"An error occurred: {e}\")\n",
    "    \n",
    "    return amount\n",
    "\n",
    "def get_bitcoin_price():\n",
    "    \"\"\"\n",
    "    Fetches the current price of Bitcoin in USD.\n",
    "\n",
    "    Returns:\n",
    "    - float: The current price of Bitcoin in USD, or None if there was an error fetching the price.\n",
    "\n",
    "    Raises:\n",
    "    - requests.exceptions.RequestException: If there is an issue with the network request.\n",
    "    \"\"\"\n",
    "\n",
    "    # CoinGecko API URL for Bitcoin price\n",
    "    api_url = \"https://api.coingecko.com/api/v3/simple/price?ids=bitcoin&vs_currencies=usd\"\n",
    "    \n",
    "    try:\n",
    "        # Make a request to the CoinGecko API\n",
    "        response = requests.get(api_url)\n",
    "        response.raise_for_status()  # Raise an error if the request failed\n",
    "\n",
    "        # Parse the JSON response\n",
    "        price_info = response.json()\n",
    "        \n",
    "        # Extract the Bitcoin price in USD\n",
    "        bitcoin_price = price_info['bitcoin']['usd']\n",
    "        \n",
    "        print(f\"The current price of Bitcoin is: ${bitcoin_price} USD\")\n",
    "        \n",
    "        return bitcoin_price\n",
    "\n",
    "    except requests.exceptions.RequestException as e:\n",
    "        print(f\"An error occurred while fetching the Bitcoin price: {e}\")\n",
    "        \n",
    "        return None"
   ]
  },
  {
   "cell_type": "code",
   "execution_count": 22,
   "id": "0d4d6c45-6a37-4732-9fb1-a42386034317",
   "metadata": {
    "tags": []
   },
   "outputs": [
    {
     "name": "stdout",
     "output_type": "stream",
     "text": [
      "Transaction Time: 2023-11-06 13:00:59\n",
      "Amount Received: 26.996 BTC\n",
      "Sent from addresses: bc1quq29mutxkgxmjfdr7ayj3zd9ad0ld5mrhh89l2, bc1quq29mutxkgxmjfdr7ayj3zd9ad0ld5mrhh89l2, bc1quq29mutxkgxmjfdr7ayj3zd9ad0ld5mrhh89l2, bc1quq29mutxkgxmjfdr7ayj3zd9ad0ld5mrhh89l2, bc1qyszzdl6wfy44w279jgwp0jetld2udpdqwl4232\n",
      "\n"
     ]
    },
    {
     "data": {
      "text/plain": [
       "26.996"
      ]
     },
     "execution_count": 22,
     "metadata": {},
     "output_type": "execute_result"
    }
   ],
   "source": [
    "# Example usage:\n",
    "# Replace 'to_address' with the actual Bitcoin address you're interested in\n",
    "to_address = '3FupZp77ySr7jwoLYEJ9mwzJpvoNBXsBnE'\n",
    "\n",
    "# Example usage:\n",
    "amount_BTC = verify_transactions(to_address)\n",
    "amount_BTC"
   ]
  },
  {
   "cell_type": "code",
   "execution_count": 23,
   "id": "ba7ff986-0bee-4b09-a62e-d1e18f9a8ca5",
   "metadata": {
    "tags": []
   },
   "outputs": [
    {
     "name": "stdout",
     "output_type": "stream",
     "text": [
      "The current price of Bitcoin is: $35029 USD\n"
     ]
    },
    {
     "data": {
      "text/plain": [
       "35029"
      ]
     },
     "execution_count": 23,
     "metadata": {},
     "output_type": "execute_result"
    }
   ],
   "source": [
    "# Example usage\n",
    "BTC_price = get_bitcoin_price()\n",
    "BTC_price"
   ]
  },
  {
   "cell_type": "code",
   "execution_count": 24,
   "id": "bfe08143-8915-46fe-aad6-64d7d46ed20b",
   "metadata": {
    "tags": []
   },
   "outputs": [
    {
     "data": {
      "text/plain": [
       "945642.884"
      ]
     },
     "execution_count": 24,
     "metadata": {},
     "output_type": "execute_result"
    }
   ],
   "source": [
    "BTC_price * amount_BTC"
   ]
  },
  {
   "cell_type": "code",
   "execution_count": null,
   "id": "d31604ee-bbdf-4738-822c-4d504fbd7c92",
   "metadata": {},
   "outputs": [],
   "source": []
  }
 ],
 "metadata": {
  "kernelspec": {
   "display_name": "Python 3 (ipykernel)",
   "language": "python",
   "name": "python3"
  },
  "language_info": {
   "codemirror_mode": {
    "name": "ipython",
    "version": 3
   },
   "file_extension": ".py",
   "mimetype": "text/x-python",
   "name": "python",
   "nbconvert_exporter": "python",
   "pygments_lexer": "ipython3",
   "version": "3.11.3"
  }
 },
 "nbformat": 4,
 "nbformat_minor": 5
}
